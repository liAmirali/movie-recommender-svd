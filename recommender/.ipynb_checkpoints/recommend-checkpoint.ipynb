{
 "cells": [
  {
   "cell_type": "code",
   "execution_count": 21,
   "id": "4880674f-3ff3-4721-84dd-fb4d0187f7f5",
   "metadata": {},
   "outputs": [],
   "source": [
    "import numpy as np"
   ]
  },
  {
   "cell_type": "code",
   "execution_count": 28,
   "id": "f17d8ca6-481a-4658-a853-afd68bf3eb89",
   "metadata": {},
   "outputs": [],
   "source": [
    "def svd(A, tolerance=1e-10, max_iterations=1000):\n",
    "    # Step 1: Compute A^TA\n",
    "    ata = A @ A.T\n",
    "    \n",
    "    # Step 2: Eigenvalues and eigenvectors of A^TA\n",
    "    eigenvalues, eigenvectors = np.linalg.eig(ata)\n",
    "    \n",
    "    # Step 3: Compute V\n",
    "    v = eigenvectors\n",
    "    \n",
    "    # Step 4: Compute singular values and Sigma\n",
    "    singular_values = np.sqrt(np.abs(eigenvalues))\n",
    "    sigma = np.diag(singular_values)\n",
    "    \n",
    "    # Step 5: Compute U\n",
    "    u = np.zeros_like(A)\n",
    "    \n",
    "    return u, sigma, v.T"
   ]
  },
  {
   "cell_type": "code",
   "execution_count": 29,
   "id": "5fd5e734-d2d6-4025-b847-ffa3ce15c49e",
   "metadata": {},
   "outputs": [
    {
     "name": "stdout",
     "output_type": "stream",
     "text": [
      "U:\n",
      "[[0 0 0]\n",
      " [0 0 0]]\n",
      "\n",
      "Sigma:\n",
      "[[4.24264069 0.        ]\n",
      " [0.         0.        ]]\n",
      "\n",
      "V^T:\n",
      "[[ 0.70710678 -0.70710678]\n",
      " [ 0.70710678  0.70710678]]\n"
     ]
    }
   ],
   "source": [
    "# Example usage:\n",
    "A = np.array([[1, -2, 2],\n",
    "              [-1, 2, -2]])\n",
    "\n",
    "U, Sigma, VT = svd(A)\n",
    "\n",
    "print(\"U:\")\n",
    "print(U)\n",
    "\n",
    "print(\"\\nSigma:\")\n",
    "print(Sigma)\n",
    "\n",
    "print(\"\\nV^T:\")\n",
    "print(VT)\n"
   ]
  },
  {
   "cell_type": "code",
   "execution_count": null,
   "id": "ce7582d5-57b1-4889-9f2e-2bd8e80f87f1",
   "metadata": {},
   "outputs": [],
   "source": []
  },
  {
   "cell_type": "code",
   "execution_count": null,
   "id": "563e388a-319d-473b-b250-a96ae0f41c97",
   "metadata": {},
   "outputs": [],
   "source": []
  },
  {
   "cell_type": "code",
   "execution_count": null,
   "id": "5aa5fc1a-6ebb-4f5d-8b0e-bf75c1626329",
   "metadata": {},
   "outputs": [],
   "source": []
  },
  {
   "cell_type": "code",
   "execution_count": null,
   "id": "1e751348-f458-45e9-a430-2291be911324",
   "metadata": {},
   "outputs": [],
   "source": []
  },
  {
   "cell_type": "code",
   "execution_count": null,
   "id": "688ffa2e-77e6-451e-9b25-2295ee47b6d2",
   "metadata": {},
   "outputs": [],
   "source": []
  },
  {
   "cell_type": "code",
   "execution_count": null,
   "id": "f0b9708e-97eb-4dc9-9f6d-123c7691b0bd",
   "metadata": {},
   "outputs": [],
   "source": []
  },
  {
   "cell_type": "code",
   "execution_count": null,
   "id": "b801bc06-7929-4505-a512-3752d3034ee9",
   "metadata": {},
   "outputs": [],
   "source": []
  },
  {
   "cell_type": "code",
   "execution_count": null,
   "id": "58131abc-d346-4b34-bd9c-af2a4e27ec54",
   "metadata": {},
   "outputs": [],
   "source": []
  },
  {
   "cell_type": "code",
   "execution_count": null,
   "id": "8b006327-c560-4ab8-a436-b97c428257b3",
   "metadata": {},
   "outputs": [],
   "source": []
  },
  {
   "cell_type": "code",
   "execution_count": null,
   "id": "ca156702-f61f-4e61-82bc-f3826aa46900",
   "metadata": {},
   "outputs": [],
   "source": []
  }
 ],
 "metadata": {
  "kernelspec": {
   "display_name": "ML-conda",
   "language": "python",
   "name": "ml-conda"
  },
  "language_info": {
   "codemirror_mode": {
    "name": "ipython",
    "version": 3
   },
   "file_extension": ".py",
   "mimetype": "text/x-python",
   "name": "python",
   "nbconvert_exporter": "python",
   "pygments_lexer": "ipython3",
   "version": "3.10.9"
  }
 },
 "nbformat": 4,
 "nbformat_minor": 5
}
