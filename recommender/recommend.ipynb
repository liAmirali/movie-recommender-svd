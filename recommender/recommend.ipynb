{
 "cells": [
  {
   "cell_type": "code",
   "execution_count": 22,
   "id": "4880674f-3ff3-4721-84dd-fb4d0187f7f5",
   "metadata": {},
   "outputs": [],
   "source": [
    "import numpy as np"
   ]
  },
  {
   "cell_type": "code",
   "execution_count": 23,
   "id": "f17d8ca6-481a-4658-a853-afd68bf3eb89",
   "metadata": {},
   "outputs": [],
   "source": [
    "def svd(matrix, tolerance=1e-10, max_iterations=1000):\n",
    "    # Step 1: Compute A^TA\n",
    "    ata = matrix.T @ matrix\n",
    "\n",
    "    print(\"matrix shape:\", matrix.shape)\n",
    "    print(\"ata shape:\", ata.shape)\n",
    "    \n",
    "    # Step 2: Eigenvalues and eigenvectors of A^TA\n",
    "    eigenvalues, eigenvectors = eig(ata)\n",
    "    \n",
    "    # Step 3: Compute V\n",
    "    v = eigenvectors\n",
    "\n",
    "    print(\"eigenvectors:\", eigenvectors.shape)\n",
    "    \n",
    "    # Step 4: Compute singular values and Sigma\n",
    "    print(f\"{eigenvalues=}\")\n",
    "    singular_values = np.sqrt(np.abs(eigenvalues))\n",
    "    sigma = np.diag(singular_values)\n",
    "    \n",
    "    # Step 5: Compute U\n",
    "    u = np.zeros_like(matrix)\n",
    "    for i in range(len(singular_values)):\n",
    "        if singular_values[i] > tolerance:\n",
    "            u[:, i] = (matrix @ v[:, i]) / singular_values[i]\n",
    "    \n",
    "    return u, sigma, v.T"
   ]
  },
  {
   "cell_type": "code",
   "execution_count": 24,
   "id": "f80947ee-db59-4c90-bd94-96323a5e27a3",
   "metadata": {},
   "outputs": [],
   "source": [
    "def eig(matrix, num_iterations=1000, tolerance=1e-10):\n",
    "    n = matrix.shape[0]\n",
    "    eigenvectors = np.eye(n)\n",
    "\n",
    "    for _ in range(num_iterations):\n",
    "        # QR decomposition\n",
    "        q, r = np.linalg.qr(matrix)\n",
    "\n",
    "        # Update matrix with RQ decomposition\n",
    "        matrix = r @ q\n",
    "\n",
    "        # Accumulate eigenvectors\n",
    "        eigenvectors = eigenvectors @ q\n",
    "\n",
    "        # Check for convergence\n",
    "        off_diagonal_sum = np.sum(np.abs(matrix - np.diag(np.diagonal(matrix))))\n",
    "        if off_diagonal_sum < tolerance:\n",
    "            break\n",
    "\n",
    "    # Extract eigenvalues and eigenvectors\n",
    "    eigenvalues = np.diag(matrix)\n",
    "    \n",
    "    return eigenvalues, eigenvectors"
   ]
  },
  {
   "cell_type": "code",
   "execution_count": 25,
   "id": "5fd5e734-d2d6-4025-b847-ffa3ce15c49e",
   "metadata": {},
   "outputs": [
    {
     "name": "stdout",
     "output_type": "stream",
     "text": [
      "U:\n",
      "[[-0.70710678 -0.70710678]\n",
      " [-0.70710678  0.70710678]]\n",
      "\n",
      "Sigma:\n",
      "[5. 3.]\n",
      "\n",
      "V^T:\n",
      "[[-7.07106781e-01 -7.07106781e-01 -6.47932334e-17]\n",
      " [-2.35702260e-01  2.35702260e-01 -9.42809042e-01]\n",
      " [-6.66666667e-01  6.66666667e-01  3.33333333e-01]]\n"
     ]
    }
   ],
   "source": [
    "# Example usage:\n",
    "A = np.array([[3, 2, 2],\n",
    "              [2, 3, -2]])\n",
    "\n",
    "U, Sigma, VT = np.linalg.svd(A)\n",
    "\n",
    "print(\"U:\")\n",
    "print(U)\n",
    "\n",
    "print(\"\\nSigma:\")\n",
    "print(Sigma)\n",
    "\n",
    "print(\"\\nV^T:\")\n",
    "print(VT)\n"
   ]
  },
  {
   "cell_type": "code",
   "execution_count": 26,
   "id": "ebd75528-2212-46db-9d7f-4f3f0306eb9f",
   "metadata": {},
   "outputs": [
    {
     "name": "stdout",
     "output_type": "stream",
     "text": [
      "matrix shape: (2, 3)\n",
      "ata shape: (3, 3)\n",
      "eigenvectors: (3, 3)\n",
      "eigenvalues=array([ 2.50000000e+01,  9.00000000e+00, -3.33290474e-15])\n",
      "U:\n",
      "[[0 0 0]\n",
      " [0 0 0]]\n",
      "\n",
      "Sigma:\n",
      "[[5.00000000e+00 0.00000000e+00 0.00000000e+00]\n",
      " [0.00000000e+00 3.00000000e+00 0.00000000e+00]\n",
      " [0.00000000e+00 0.00000000e+00 5.77313151e-08]]\n",
      "\n",
      "V^T:\n",
      "[[-7.07106781e-01 -7.07106781e-01 -2.54024548e-12]\n",
      " [-2.35702260e-01  2.35702260e-01 -9.42809042e-01]\n",
      " [-6.66666667e-01  6.66666667e-01  3.33333333e-01]]\n"
     ]
    }
   ],
   "source": [
    "# Example usage:\n",
    "A = np.array([[3, 2, 2],\n",
    "              [2, 3, -2]])\n",
    "\n",
    "U, Sigma, VT = svd(A)\n",
    "\n",
    "print(\"U:\")\n",
    "print(U)\n",
    "\n",
    "print(\"\\nSigma:\")\n",
    "print(Sigma)\n",
    "\n",
    "print(\"\\nV^T:\")\n",
    "print(VT)\n"
   ]
  }
 ],
 "metadata": {
  "kernelspec": {
   "display_name": "ML-conda",
   "language": "python",
   "name": "ml-conda"
  },
  "language_info": {
   "codemirror_mode": {
    "name": "ipython",
    "version": 3
   },
   "file_extension": ".py",
   "mimetype": "text/x-python",
   "name": "python",
   "nbconvert_exporter": "python",
   "pygments_lexer": "ipython3",
   "version": "3.10.9"
  }
 },
 "nbformat": 4,
 "nbformat_minor": 5
}
